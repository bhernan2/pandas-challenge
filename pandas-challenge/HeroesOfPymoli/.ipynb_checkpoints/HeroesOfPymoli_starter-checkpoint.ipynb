{
 "cells": [
  {
   "cell_type": "markdown",
   "metadata": {},
   "source": [
    "### Note\n",
    "* Instructions have been included for each segment. You do not have to follow them exactly, but they are included to help you think through the steps."
   ]
  },
  {
   "cell_type": "code",
   "execution_count": 3,
   "metadata": {},
   "outputs": [],
   "source": [
    "# Dependencies and Setup\n",
    "import pandas as pd\n",
    "import numpy as np\n",
    "# File to Load (Remember to Change These)\n",
    "file_to_load = \"Resources/purchase_data.csv\"\n",
    "\n",
    "# Read Purchasing File and store into Pandas data frame\n",
    "purchase_df = pd.read_csv(file_to_load)"
   ]
  },
  {
   "cell_type": "code",
   "execution_count": 4,
   "metadata": {},
   "outputs": [
    {
     "data": {
      "text/html": [
       "<div>\n",
       "<style scoped>\n",
       "    .dataframe tbody tr th:only-of-type {\n",
       "        vertical-align: middle;\n",
       "    }\n",
       "\n",
       "    .dataframe tbody tr th {\n",
       "        vertical-align: top;\n",
       "    }\n",
       "\n",
       "    .dataframe thead th {\n",
       "        text-align: right;\n",
       "    }\n",
       "</style>\n",
       "<table border=\"1\" class=\"dataframe\">\n",
       "  <thead>\n",
       "    <tr style=\"text-align: right;\">\n",
       "      <th></th>\n",
       "      <th>Purchase ID</th>\n",
       "      <th>SN</th>\n",
       "      <th>Age</th>\n",
       "      <th>Gender</th>\n",
       "      <th>Item ID</th>\n",
       "      <th>Item Name</th>\n",
       "      <th>Price</th>\n",
       "    </tr>\n",
       "  </thead>\n",
       "  <tbody>\n",
       "    <tr>\n",
       "      <th>0</th>\n",
       "      <td>0</td>\n",
       "      <td>Lisim78</td>\n",
       "      <td>20</td>\n",
       "      <td>Male</td>\n",
       "      <td>108</td>\n",
       "      <td>Extraction, Quickblade Of Trembling Hands</td>\n",
       "      <td>3.53</td>\n",
       "    </tr>\n",
       "    <tr>\n",
       "      <th>1</th>\n",
       "      <td>1</td>\n",
       "      <td>Lisovynya38</td>\n",
       "      <td>40</td>\n",
       "      <td>Male</td>\n",
       "      <td>143</td>\n",
       "      <td>Frenzied Scimitar</td>\n",
       "      <td>1.56</td>\n",
       "    </tr>\n",
       "    <tr>\n",
       "      <th>2</th>\n",
       "      <td>2</td>\n",
       "      <td>Ithergue48</td>\n",
       "      <td>24</td>\n",
       "      <td>Male</td>\n",
       "      <td>92</td>\n",
       "      <td>Final Critic</td>\n",
       "      <td>4.88</td>\n",
       "    </tr>\n",
       "    <tr>\n",
       "      <th>3</th>\n",
       "      <td>3</td>\n",
       "      <td>Chamassasya86</td>\n",
       "      <td>24</td>\n",
       "      <td>Male</td>\n",
       "      <td>100</td>\n",
       "      <td>Blindscythe</td>\n",
       "      <td>3.27</td>\n",
       "    </tr>\n",
       "    <tr>\n",
       "      <th>4</th>\n",
       "      <td>4</td>\n",
       "      <td>Iskosia90</td>\n",
       "      <td>23</td>\n",
       "      <td>Male</td>\n",
       "      <td>131</td>\n",
       "      <td>Fury</td>\n",
       "      <td>1.44</td>\n",
       "    </tr>\n",
       "  </tbody>\n",
       "</table>\n",
       "</div>"
      ],
      "text/plain": [
       "   Purchase ID             SN  Age Gender  Item ID  \\\n",
       "0            0        Lisim78   20   Male      108   \n",
       "1            1    Lisovynya38   40   Male      143   \n",
       "2            2     Ithergue48   24   Male       92   \n",
       "3            3  Chamassasya86   24   Male      100   \n",
       "4            4      Iskosia90   23   Male      131   \n",
       "\n",
       "                                   Item Name  Price  \n",
       "0  Extraction, Quickblade Of Trembling Hands   3.53  \n",
       "1                          Frenzied Scimitar   1.56  \n",
       "2                               Final Critic   4.88  \n",
       "3                                Blindscythe   3.27  \n",
       "4                                       Fury   1.44  "
      ]
     },
     "execution_count": 4,
     "metadata": {},
     "output_type": "execute_result"
    }
   ],
   "source": [
    "#take a look at purchase_df\n",
    "purchase_df.head()"
   ]
  },
  {
   "cell_type": "code",
   "execution_count": 5,
   "metadata": {},
   "outputs": [
    {
     "data": {
      "text/plain": [
       "Index(['Purchase ID', 'SN', 'Age', 'Gender', 'Item ID', 'Item Name', 'Price'], dtype='object')"
      ]
     },
     "execution_count": 5,
     "metadata": {},
     "output_type": "execute_result"
    }
   ],
   "source": [
    "purchase_df.columns"
   ]
  },
  {
   "cell_type": "code",
   "execution_count": 6,
   "metadata": {},
   "outputs": [
    {
     "data": {
      "text/plain": [
       "Purchase ID      int64\n",
       "SN              object\n",
       "Age              int64\n",
       "Gender          object\n",
       "Item ID          int64\n",
       "Item Name       object\n",
       "Price          float64\n",
       "dtype: object"
      ]
     },
     "execution_count": 6,
     "metadata": {},
     "output_type": "execute_result"
    }
   ],
   "source": [
    "purchase_df.dtypes"
   ]
  },
  {
   "cell_type": "code",
   "execution_count": 7,
   "metadata": {},
   "outputs": [
    {
     "data": {
      "text/plain": [
       "Purchase ID    780\n",
       "SN             780\n",
       "Age            780\n",
       "Gender         780\n",
       "Item ID        780\n",
       "Item Name      780\n",
       "Price          780\n",
       "dtype: int64"
      ]
     },
     "execution_count": 7,
     "metadata": {},
     "output_type": "execute_result"
    }
   ],
   "source": [
    "purchase_df.count()"
   ]
  },
  {
   "cell_type": "markdown",
   "metadata": {},
   "source": [
    "## Player Count"
   ]
  },
  {
   "cell_type": "markdown",
   "metadata": {},
   "source": [
    "#Display the total number of players\n"
   ]
  },
  {
   "cell_type": "code",
   "execution_count": 8,
   "metadata": {},
   "outputs": [
    {
     "data": {
      "text/html": [
       "<div>\n",
       "<style scoped>\n",
       "    .dataframe tbody tr th:only-of-type {\n",
       "        vertical-align: middle;\n",
       "    }\n",
       "\n",
       "    .dataframe tbody tr th {\n",
       "        vertical-align: top;\n",
       "    }\n",
       "\n",
       "    .dataframe thead th {\n",
       "        text-align: right;\n",
       "    }\n",
       "</style>\n",
       "<table border=\"1\" class=\"dataframe\">\n",
       "  <thead>\n",
       "    <tr style=\"text-align: right;\">\n",
       "      <th></th>\n",
       "      <th>Total Players</th>\n",
       "    </tr>\n",
       "  </thead>\n",
       "  <tbody>\n",
       "    <tr>\n",
       "      <th>0</th>\n",
       "      <td>576</td>\n",
       "    </tr>\n",
       "  </tbody>\n",
       "</table>\n",
       "</div>"
      ],
      "text/plain": [
       "   Total Players\n",
       "0            576"
      ]
     },
     "execution_count": 8,
     "metadata": {},
     "output_type": "execute_result"
    }
   ],
   "source": [
    "#calculate total_players\n",
    "total_players = len(purchase_df[\"SN\"].value_counts())\n",
    "#create df with total_players_counts \n",
    "total_players_count = pd.DataFrame({\"Total Players\": [total_players]})\n",
    "total_players_count"
   ]
  },
  {
   "cell_type": "markdown",
   "metadata": {},
   "source": [
    "## Purchasing Analysis (Total)"
   ]
  },
  {
   "cell_type": "markdown",
   "metadata": {},
   "source": [
    "* Run basic calculations to obtain number of unique items, average price, etc.\n",
    "\n",
    "\n",
    "* Create a summary data frame to hold the results\n",
    "\n",
    "\n",
    "* Optional: give the displayed data cleaner formatting\n",
    "\n",
    "\n",
    "* Display the summary data frame\n"
   ]
  },
  {
   "cell_type": "code",
   "execution_count": 10,
   "metadata": {
    "scrolled": true
   },
   "outputs": [
    {
     "data": {
      "text/plain": [
       "183"
      ]
     },
     "execution_count": 10,
     "metadata": {},
     "output_type": "execute_result"
    }
   ],
   "source": [
    "#calculate number_of_unique_items using .unique() \n",
    "number_of_unique_items = len(purchase_df[\"Item ID\"].unique())\n",
    "number_of_unique_items "
   ]
  },
  {
   "cell_type": "code",
   "execution_count": 54,
   "metadata": {},
   "outputs": [
    {
     "data": {
      "text/plain": [
       "3.050987179487176"
      ]
     },
     "execution_count": 54,
     "metadata": {},
     "output_type": "execute_result"
    }
   ],
   "source": [
    "#calculate average_price using .mean()\n",
    "average_price = (purchase_df[\"Price\"].mean())\n",
    "average_price"
   ]
  },
  {
   "cell_type": "code",
   "execution_count": 55,
   "metadata": {},
   "outputs": [
    {
     "data": {
      "text/plain": [
       "780"
      ]
     },
     "execution_count": 55,
     "metadata": {},
     "output_type": "execute_result"
    }
   ],
   "source": [
    "# calcualte total number of purchases using .count()\n",
    "tot_no_purchases = (purchase_df[\"Purchase ID\"].count())\n",
    "tot_no_purchases"
   ]
  },
  {
   "cell_type": "code",
   "execution_count": 56,
   "metadata": {},
   "outputs": [
    {
     "data": {
      "text/plain": [
       "2379.77"
      ]
     },
     "execution_count": 56,
     "metadata": {},
     "output_type": "execute_result"
    }
   ],
   "source": [
    "#calculate tot_rev using .sum() \n",
    "tot_rev = (purchase_df[\"Price\"].sum())\n",
    "tot_rev"
   ]
  },
  {
   "cell_type": "code",
   "execution_count": 57,
   "metadata": {},
   "outputs": [
    {
     "data": {
      "text/html": [
       "<style  type=\"text/css\" >\n",
       "</style>  \n",
       "<table id=\"T_a9668cd6_5ce9_11ea_b06c_9cf387c28310\" > \n",
       "<thead>    <tr> \n",
       "        <th class=\"blank level0\" ></th> \n",
       "        <th class=\"col_heading level0 col0\" >Number of Unique Items</th> \n",
       "        <th class=\"col_heading level0 col1\" >Average Price</th> \n",
       "        <th class=\"col_heading level0 col2\" >Number of Purchases</th> \n",
       "        <th class=\"col_heading level0 col3\" >Total Revenue</th> \n",
       "    </tr></thead> \n",
       "<tbody>    <tr> \n",
       "        <th id=\"T_a9668cd6_5ce9_11ea_b06c_9cf387c28310level0_row0\" class=\"row_heading level0 row0\" >0</th> \n",
       "        <td id=\"T_a9668cd6_5ce9_11ea_b06c_9cf387c28310row0_col0\" class=\"data row0 col0\" >183</td> \n",
       "        <td id=\"T_a9668cd6_5ce9_11ea_b06c_9cf387c28310row0_col1\" class=\"data row0 col1\" >$3.05</td> \n",
       "        <td id=\"T_a9668cd6_5ce9_11ea_b06c_9cf387c28310row0_col2\" class=\"data row0 col2\" >780</td> \n",
       "        <td id=\"T_a9668cd6_5ce9_11ea_b06c_9cf387c28310row0_col3\" class=\"data row0 col3\" >$2,379.77</td> \n",
       "    </tr></tbody> \n",
       "</table> "
      ],
      "text/plain": [
       "<pandas.io.formats.style.Styler at 0x10f525470>"
      ]
     },
     "execution_count": 57,
     "metadata": {},
     "output_type": "execute_result"
    }
   ],
   "source": [
    "#create purchase_summary_df df with above calculations\n",
    "purchase_summary_df = pd.DataFrame({\"Number of Unique Items\": [number_of_unique_items],\n",
    "                                   \"Average Price\": [average_price],\n",
    "                                   \"Number of Purchases\": [tot_no_purchases],\n",
    "                                   \"Total Revenue\": [tot_rev]})\n",
    "#format df summary table to include $ and two decimal points\n",
    "purchase_summary_df.style.format({'Average Price': \"${:,.2f}\",\n",
    "                           'Total Revenue': \"${:,.2f}\"})\n"
   ]
  },
  {
   "cell_type": "markdown",
   "metadata": {},
   "source": [
    "## Gender Demographics"
   ]
  },
  {
   "cell_type": "markdown",
   "metadata": {},
   "source": [
    "* Percentage and Count of Male Players\n",
    "\n",
    "\n",
    "* Percentage and Count of Female Players\n",
    "\n",
    "\n",
    "* Percentage and Count of Other / Non-Disclosed\n",
    "\n",
    "\n"
   ]
  },
  {
   "cell_type": "code",
   "execution_count": 19,
   "metadata": {},
   "outputs": [
    {
     "data": {
      "text/html": [
       "<style  type=\"text/css\" >\n",
       "</style>  \n",
       "<table id=\"T_70d02b76_5dd3_11ea_8eb4_9cf387c28310\" > \n",
       "<thead>    <tr> \n",
       "        <th class=\"blank level0\" ></th> \n",
       "        <th class=\"col_heading level0 col0\" >Player Percentages</th> \n",
       "        <th class=\"col_heading level0 col1\" >Total Count</th> \n",
       "    </tr>    <tr> \n",
       "        <th class=\"index_name level0\" >Gender</th> \n",
       "        <th class=\"blank\" ></th> \n",
       "        <th class=\"blank\" ></th> \n",
       "    </tr></thead> \n",
       "<tbody>    <tr> \n",
       "        <th id=\"T_70d02b76_5dd3_11ea_8eb4_9cf387c28310level0_row0\" class=\"row_heading level0 row0\" >Male</th> \n",
       "        <td id=\"T_70d02b76_5dd3_11ea_8eb4_9cf387c28310row0_col0\" class=\"data row0 col0\" >84.03%</td> \n",
       "        <td id=\"T_70d02b76_5dd3_11ea_8eb4_9cf387c28310row0_col1\" class=\"data row0 col1\" >484</td> \n",
       "    </tr>    <tr> \n",
       "        <th id=\"T_70d02b76_5dd3_11ea_8eb4_9cf387c28310level0_row1\" class=\"row_heading level0 row1\" >Female</th> \n",
       "        <td id=\"T_70d02b76_5dd3_11ea_8eb4_9cf387c28310row1_col0\" class=\"data row1 col0\" >14.06%</td> \n",
       "        <td id=\"T_70d02b76_5dd3_11ea_8eb4_9cf387c28310row1_col1\" class=\"data row1 col1\" >81</td> \n",
       "    </tr>    <tr> \n",
       "        <th id=\"T_70d02b76_5dd3_11ea_8eb4_9cf387c28310level0_row2\" class=\"row_heading level0 row2\" >Other / Non-Disclosed</th> \n",
       "        <td id=\"T_70d02b76_5dd3_11ea_8eb4_9cf387c28310row2_col0\" class=\"data row2 col0\" >1.91%</td> \n",
       "        <td id=\"T_70d02b76_5dd3_11ea_8eb4_9cf387c28310row2_col1\" class=\"data row2 col1\" >11</td> \n",
       "    </tr></tbody> \n",
       "</table> "
      ],
      "text/plain": [
       "<pandas.io.formats.style.Styler at 0x1201e1b70>"
      ]
     },
     "execution_count": 19,
     "metadata": {},
     "output_type": "execute_result"
    }
   ],
   "source": [
    "#group purchase_df by Gender using .groupby\n",
    "gender_demographics = purchase_df.groupby(\"Gender\")\n",
    "#gender_demographics.head()\n",
    "#calulate total_gender_demographics using .nunique and SN \n",
    "total_gender_demographics = gender_demographics.nunique()[\"SN\"]\n",
    "#total_gender_demographics.head()\n",
    "#calculate gender percentages by gender (total_gender_demographics/total_players)\n",
    "percent_players = total_gender_demographics/total_players\n",
    "#percent_players.head()\n",
    "#create gender_demographics_df df with above calculations  \n",
    "gender_demographics_df = pd.DataFrame({\"Player Percentages\": percent_players,\n",
    "                                   \"Total Count\": total_gender_demographics})\n",
    "gender_demographics_df\n",
    "#format gender_demographics_df df summary table to include % and two decimal points\n",
    "gender_demographics_df.sort_values([\"Total Count\"], \n",
    "                                ascending =False).style.format({\"Player Percentages\":'{:.2%}'})"
   ]
  },
  {
   "cell_type": "markdown",
   "metadata": {},
   "source": [
    "\n",
    "## Purchasing Analysis (Gender)"
   ]
  },
  {
   "cell_type": "markdown",
   "metadata": {},
   "source": [
    "* Run basic calculations to obtain purchase count, avg. purchase price, avg. purchase total per person etc. by gender\n",
    "\n",
    "\n",
    "\n",
    "\n",
    "* Create a summary data frame to hold the results\n",
    "\n",
    "\n",
    "* Optional: give the displayed data cleaner formatting\n",
    "\n",
    "\n",
    "* Display the summary data frame"
   ]
  },
  {
   "cell_type": "code",
   "execution_count": 17,
   "metadata": {},
   "outputs": [
    {
     "data": {
      "text/html": [
       "<style  type=\"text/css\" >\n",
       "</style>  \n",
       "<table id=\"T_f90050c8_5dd0_11ea_8eb4_9cf387c28310\" > \n",
       "<thead>    <tr> \n",
       "        <th class=\"blank level0\" ></th> \n",
       "        <th class=\"col_heading level0 col0\" >Purchase Count</th> \n",
       "        <th class=\"col_heading level0 col1\" >Average Purchase Price</th> \n",
       "        <th class=\"col_heading level0 col2\" >Total Purchase Value</th> \n",
       "        <th class=\"col_heading level0 col3\" >Avg Total Purchase per Person</th> \n",
       "    </tr>    <tr> \n",
       "        <th class=\"index_name level0\" >Gender</th> \n",
       "        <th class=\"blank\" ></th> \n",
       "        <th class=\"blank\" ></th> \n",
       "        <th class=\"blank\" ></th> \n",
       "        <th class=\"blank\" ></th> \n",
       "    </tr></thead> \n",
       "<tbody>    <tr> \n",
       "        <th id=\"T_f90050c8_5dd0_11ea_8eb4_9cf387c28310level0_row0\" class=\"row_heading level0 row0\" >Female</th> \n",
       "        <td id=\"T_f90050c8_5dd0_11ea_8eb4_9cf387c28310row0_col0\" class=\"data row0 col0\" >113</td> \n",
       "        <td id=\"T_f90050c8_5dd0_11ea_8eb4_9cf387c28310row0_col1\" class=\"data row0 col1\" >$3.20</td> \n",
       "        <td id=\"T_f90050c8_5dd0_11ea_8eb4_9cf387c28310row0_col2\" class=\"data row0 col2\" >$361.94</td> \n",
       "        <td id=\"T_f90050c8_5dd0_11ea_8eb4_9cf387c28310row0_col3\" class=\"data row0 col3\" >$4.47</td> \n",
       "    </tr>    <tr> \n",
       "        <th id=\"T_f90050c8_5dd0_11ea_8eb4_9cf387c28310level0_row1\" class=\"row_heading level0 row1\" >Male</th> \n",
       "        <td id=\"T_f90050c8_5dd0_11ea_8eb4_9cf387c28310row1_col0\" class=\"data row1 col0\" >652</td> \n",
       "        <td id=\"T_f90050c8_5dd0_11ea_8eb4_9cf387c28310row1_col1\" class=\"data row1 col1\" >$3.02</td> \n",
       "        <td id=\"T_f90050c8_5dd0_11ea_8eb4_9cf387c28310row1_col2\" class=\"data row1 col2\" >$1,967.64</td> \n",
       "        <td id=\"T_f90050c8_5dd0_11ea_8eb4_9cf387c28310row1_col3\" class=\"data row1 col3\" >$4.07</td> \n",
       "    </tr>    <tr> \n",
       "        <th id=\"T_f90050c8_5dd0_11ea_8eb4_9cf387c28310level0_row2\" class=\"row_heading level0 row2\" >Other / Non-Disclosed</th> \n",
       "        <td id=\"T_f90050c8_5dd0_11ea_8eb4_9cf387c28310row2_col0\" class=\"data row2 col0\" >15</td> \n",
       "        <td id=\"T_f90050c8_5dd0_11ea_8eb4_9cf387c28310row2_col1\" class=\"data row2 col1\" >$3.35</td> \n",
       "        <td id=\"T_f90050c8_5dd0_11ea_8eb4_9cf387c28310row2_col2\" class=\"data row2 col2\" >$50.19</td> \n",
       "        <td id=\"T_f90050c8_5dd0_11ea_8eb4_9cf387c28310row2_col3\" class=\"data row2 col3\" >$4.56</td> \n",
       "    </tr></tbody> \n",
       "</table> "
      ],
      "text/plain": [
       "<pandas.io.formats.style.Styler at 0x122c5e5c0>"
      ]
     },
     "execution_count": 17,
     "metadata": {},
     "output_type": "execute_result"
    }
   ],
   "source": [
    "#calculate total purchases by gender using .count() \n",
    "purchase_count = gender_demographics[\"Purchase ID\"].count()\n",
    "purchase_count.head()\n",
    "#calculate avg_purchase_count by gender using .mean()\n",
    "avg_purchase_count=gender_demographics[\"Price\"].mean()\n",
    "avg_purchase_count.head()\n",
    "#calculate total_purchase_values by gender using .sum()\n",
    "total_purchase_values = gender_demographics[\"Price\"].sum()\n",
    "total_purchase_values.head()\n",
    "#calculate avg_total_purchase_gender by gender: total_purchase_values/total_gender_demographics\n",
    "avg_total_purchase_gender = total_purchase_values/total_gender_demographics\n",
    "avg_total_purchase_gender.head()\n",
    "#create gender_demographics df for above calculations\n",
    "gender_demographics = pd.DataFrame({\"Purchase Count\": purchase_count,\n",
    "                                   \"Average Purchase Price\": avg_purchase_count,\n",
    "                                   \"Total Purchase Value\": total_purchase_values,\n",
    "                                   \"Avg Total Purchase per Person\": avg_total_purchase_gender})\n",
    "gender_demographics.head()\n",
    "#format gender_demographics summary table to include $ and two decimal points\n",
    "gender_demographics.style.format({\"Average Purchase Price\": \"${:,.2f}\",\n",
    "                                 \"Total Purchase Value\": \"${:,.2f}\",\n",
    "                                 \"Avg Total Purchase per Person\": \"${:,.2f}\"\n",
    "                                 })"
   ]
  },
  {
   "cell_type": "markdown",
   "metadata": {},
   "source": [
    "## Age Demographics"
   ]
  },
  {
   "cell_type": "markdown",
   "metadata": {},
   "source": [
    "* Establish bins for ages\n",
    "\n",
    "\n",
    "* Categorize the existing players using the age bins. Hint: use pd.cut()\n",
    "\n",
    "\n",
    "* Calculate the numbers and percentages by age group\n",
    "\n",
    "\n",
    "* Create a summary data frame to hold the results\n",
    "\n",
    "\n",
    "* Optional: round the percentage column to two decimal points\n",
    "\n",
    "\n",
    "* Display Age Demographics Table\n"
   ]
  },
  {
   "cell_type": "code",
   "execution_count": 20,
   "metadata": {},
   "outputs": [
    {
     "data": {
      "text/html": [
       "<style  type=\"text/css\" >\n",
       "</style>  \n",
       "<table id=\"T_144bead8_5dd4_11ea_8eb4_9cf387c28310\" > \n",
       "<thead>    <tr> \n",
       "        <th class=\"blank level0\" ></th> \n",
       "        <th class=\"col_heading level0 col0\" >Total Count</th> \n",
       "        <th class=\"col_heading level0 col1\" >Percentage of Players</th> \n",
       "    </tr>    <tr> \n",
       "        <th class=\"index_name level0\" >Age Group</th> \n",
       "        <th class=\"blank\" ></th> \n",
       "        <th class=\"blank\" ></th> \n",
       "    </tr></thead> \n",
       "<tbody>    <tr> \n",
       "        <th id=\"T_144bead8_5dd4_11ea_8eb4_9cf387c28310level0_row0\" class=\"row_heading level0 row0\" ><10</th> \n",
       "        <td id=\"T_144bead8_5dd4_11ea_8eb4_9cf387c28310row0_col0\" class=\"data row0 col0\" >17</td> \n",
       "        <td id=\"T_144bead8_5dd4_11ea_8eb4_9cf387c28310row0_col1\" class=\"data row0 col1\" >2.95%</td> \n",
       "    </tr>    <tr> \n",
       "        <th id=\"T_144bead8_5dd4_11ea_8eb4_9cf387c28310level0_row1\" class=\"row_heading level0 row1\" >10-14</th> \n",
       "        <td id=\"T_144bead8_5dd4_11ea_8eb4_9cf387c28310row1_col0\" class=\"data row1 col0\" >22</td> \n",
       "        <td id=\"T_144bead8_5dd4_11ea_8eb4_9cf387c28310row1_col1\" class=\"data row1 col1\" >3.82%</td> \n",
       "    </tr>    <tr> \n",
       "        <th id=\"T_144bead8_5dd4_11ea_8eb4_9cf387c28310level0_row2\" class=\"row_heading level0 row2\" >15-19</th> \n",
       "        <td id=\"T_144bead8_5dd4_11ea_8eb4_9cf387c28310row2_col0\" class=\"data row2 col0\" >107</td> \n",
       "        <td id=\"T_144bead8_5dd4_11ea_8eb4_9cf387c28310row2_col1\" class=\"data row2 col1\" >18.58%</td> \n",
       "    </tr>    <tr> \n",
       "        <th id=\"T_144bead8_5dd4_11ea_8eb4_9cf387c28310level0_row3\" class=\"row_heading level0 row3\" >20-24</th> \n",
       "        <td id=\"T_144bead8_5dd4_11ea_8eb4_9cf387c28310row3_col0\" class=\"data row3 col0\" >258</td> \n",
       "        <td id=\"T_144bead8_5dd4_11ea_8eb4_9cf387c28310row3_col1\" class=\"data row3 col1\" >44.79%</td> \n",
       "    </tr>    <tr> \n",
       "        <th id=\"T_144bead8_5dd4_11ea_8eb4_9cf387c28310level0_row4\" class=\"row_heading level0 row4\" >25-29</th> \n",
       "        <td id=\"T_144bead8_5dd4_11ea_8eb4_9cf387c28310row4_col0\" class=\"data row4 col0\" >77</td> \n",
       "        <td id=\"T_144bead8_5dd4_11ea_8eb4_9cf387c28310row4_col1\" class=\"data row4 col1\" >13.37%</td> \n",
       "    </tr>    <tr> \n",
       "        <th id=\"T_144bead8_5dd4_11ea_8eb4_9cf387c28310level0_row5\" class=\"row_heading level0 row5\" >30-34</th> \n",
       "        <td id=\"T_144bead8_5dd4_11ea_8eb4_9cf387c28310row5_col0\" class=\"data row5 col0\" >52</td> \n",
       "        <td id=\"T_144bead8_5dd4_11ea_8eb4_9cf387c28310row5_col1\" class=\"data row5 col1\" >9.03%</td> \n",
       "    </tr>    <tr> \n",
       "        <th id=\"T_144bead8_5dd4_11ea_8eb4_9cf387c28310level0_row6\" class=\"row_heading level0 row6\" >35-39</th> \n",
       "        <td id=\"T_144bead8_5dd4_11ea_8eb4_9cf387c28310row6_col0\" class=\"data row6 col0\" >31</td> \n",
       "        <td id=\"T_144bead8_5dd4_11ea_8eb4_9cf387c28310row6_col1\" class=\"data row6 col1\" >5.38%</td> \n",
       "    </tr>    <tr> \n",
       "        <th id=\"T_144bead8_5dd4_11ea_8eb4_9cf387c28310level0_row7\" class=\"row_heading level0 row7\" >40+</th> \n",
       "        <td id=\"T_144bead8_5dd4_11ea_8eb4_9cf387c28310row7_col0\" class=\"data row7 col0\" >12</td> \n",
       "        <td id=\"T_144bead8_5dd4_11ea_8eb4_9cf387c28310row7_col1\" class=\"data row7 col1\" >2.08%</td> \n",
       "    </tr></tbody> \n",
       "</table> "
      ],
      "text/plain": [
       "<pandas.io.formats.style.Styler at 0x1224b3940>"
      ]
     },
     "execution_count": 20,
     "metadata": {},
     "output_type": "execute_result"
    }
   ],
   "source": [
    "#create bins for age groups\n",
    "age_bins = [0, 9.90, 14.90, 19.90, 24.90, 29.90, 34.90, 39.90, 99999]\n",
    "age_groups = [\"<10\", \"10-14\", \"15-19\", \"20-24\", \"25-29\", \"30-34\", \"35-39\", \"40+\"]\n",
    "#categorize the existing players using bins and pd.cut() from purchase_df\n",
    "purchase_df[\"Age Group\"] = pd.cut(purchase_df[\"Age\"], age_bins, labels=age_groups)\n",
    "purchase_df.head()\n",
    "#add age_groups_df\n",
    "age_groups_df = purchase_df.groupby(\"Age Group\")\n",
    "age_groups_df.head()\n",
    "#calculate total_age_groups and percent_age_groups\n",
    "total_age_groups=age_groups_df[\"SN\"].nunique()\n",
    "percent_age_groups=total_age_groups/total_players  \n",
    "#create new age_demographics df from above calculations\n",
    "age_demographics_df = pd.DataFrame({\"Total Count\": total_age_groups,\n",
    "                                  \"Percentage of Players\": percent_age_groups\n",
    "                                   })\n",
    "age_demographics_df\n",
    "#format age_demographics_df summary table to include % and two decimals\n",
    "age_demographics_df.style.format({\"Percentage of Players\": '{:.2%}'})\n",
    "\n"
   ]
  },
  {
   "cell_type": "markdown",
   "metadata": {},
   "source": [
    "## Purchasing Analysis (Age)"
   ]
  },
  {
   "cell_type": "markdown",
   "metadata": {},
   "source": [
    "* Bin the purchase_data data frame by age\n",
    "\n",
    "\n",
    "* Run basic calculations to obtain purchase count, avg. purchase price, avg. purchase total per person etc. in the table below\n",
    "\n",
    "\n",
    "* Create a summary data frame to hold the results\n",
    "\n",
    "\n",
    "* Optional: give the displayed data cleaner formatting\n",
    "\n",
    "\n",
    "* Display the summary data frame"
   ]
  },
  {
   "cell_type": "code",
   "execution_count": 22,
   "metadata": {},
   "outputs": [
    {
     "data": {
      "text/html": [
       "<style  type=\"text/css\" >\n",
       "</style>  \n",
       "<table id=\"T_1cd8fab4_5dd5_11ea_8eb4_9cf387c28310\" > \n",
       "<thead>    <tr> \n",
       "        <th class=\"blank level0\" ></th> \n",
       "        <th class=\"col_heading level0 col0\" >Purchase Count</th> \n",
       "        <th class=\"col_heading level0 col1\" >Average Purchase Price</th> \n",
       "        <th class=\"col_heading level0 col2\" >Total Purchase Value</th> \n",
       "        <th class=\"col_heading level0 col3\" >Avg Total Purchase per Person</th> \n",
       "    </tr>    <tr> \n",
       "        <th class=\"index_name level0\" >Age Group</th> \n",
       "        <th class=\"blank\" ></th> \n",
       "        <th class=\"blank\" ></th> \n",
       "        <th class=\"blank\" ></th> \n",
       "        <th class=\"blank\" ></th> \n",
       "    </tr></thead> \n",
       "<tbody>    <tr> \n",
       "        <th id=\"T_1cd8fab4_5dd5_11ea_8eb4_9cf387c28310level0_row0\" class=\"row_heading level0 row0\" ><10</th> \n",
       "        <td id=\"T_1cd8fab4_5dd5_11ea_8eb4_9cf387c28310row0_col0\" class=\"data row0 col0\" >23</td> \n",
       "        <td id=\"T_1cd8fab4_5dd5_11ea_8eb4_9cf387c28310row0_col1\" class=\"data row0 col1\" >$3.35</td> \n",
       "        <td id=\"T_1cd8fab4_5dd5_11ea_8eb4_9cf387c28310row0_col2\" class=\"data row0 col2\" >$77.13</td> \n",
       "        <td id=\"T_1cd8fab4_5dd5_11ea_8eb4_9cf387c28310row0_col3\" class=\"data row0 col3\" >$4.54</td> \n",
       "    </tr>    <tr> \n",
       "        <th id=\"T_1cd8fab4_5dd5_11ea_8eb4_9cf387c28310level0_row1\" class=\"row_heading level0 row1\" >10-14</th> \n",
       "        <td id=\"T_1cd8fab4_5dd5_11ea_8eb4_9cf387c28310row1_col0\" class=\"data row1 col0\" >28</td> \n",
       "        <td id=\"T_1cd8fab4_5dd5_11ea_8eb4_9cf387c28310row1_col1\" class=\"data row1 col1\" >$2.96</td> \n",
       "        <td id=\"T_1cd8fab4_5dd5_11ea_8eb4_9cf387c28310row1_col2\" class=\"data row1 col2\" >$82.78</td> \n",
       "        <td id=\"T_1cd8fab4_5dd5_11ea_8eb4_9cf387c28310row1_col3\" class=\"data row1 col3\" >$3.76</td> \n",
       "    </tr>    <tr> \n",
       "        <th id=\"T_1cd8fab4_5dd5_11ea_8eb4_9cf387c28310level0_row2\" class=\"row_heading level0 row2\" >15-19</th> \n",
       "        <td id=\"T_1cd8fab4_5dd5_11ea_8eb4_9cf387c28310row2_col0\" class=\"data row2 col0\" >136</td> \n",
       "        <td id=\"T_1cd8fab4_5dd5_11ea_8eb4_9cf387c28310row2_col1\" class=\"data row2 col1\" >$3.04</td> \n",
       "        <td id=\"T_1cd8fab4_5dd5_11ea_8eb4_9cf387c28310row2_col2\" class=\"data row2 col2\" >$412.89</td> \n",
       "        <td id=\"T_1cd8fab4_5dd5_11ea_8eb4_9cf387c28310row2_col3\" class=\"data row2 col3\" >$3.86</td> \n",
       "    </tr>    <tr> \n",
       "        <th id=\"T_1cd8fab4_5dd5_11ea_8eb4_9cf387c28310level0_row3\" class=\"row_heading level0 row3\" >20-24</th> \n",
       "        <td id=\"T_1cd8fab4_5dd5_11ea_8eb4_9cf387c28310row3_col0\" class=\"data row3 col0\" >365</td> \n",
       "        <td id=\"T_1cd8fab4_5dd5_11ea_8eb4_9cf387c28310row3_col1\" class=\"data row3 col1\" >$3.05</td> \n",
       "        <td id=\"T_1cd8fab4_5dd5_11ea_8eb4_9cf387c28310row3_col2\" class=\"data row3 col2\" >$1,114.06</td> \n",
       "        <td id=\"T_1cd8fab4_5dd5_11ea_8eb4_9cf387c28310row3_col3\" class=\"data row3 col3\" >$4.32</td> \n",
       "    </tr>    <tr> \n",
       "        <th id=\"T_1cd8fab4_5dd5_11ea_8eb4_9cf387c28310level0_row4\" class=\"row_heading level0 row4\" >25-29</th> \n",
       "        <td id=\"T_1cd8fab4_5dd5_11ea_8eb4_9cf387c28310row4_col0\" class=\"data row4 col0\" >101</td> \n",
       "        <td id=\"T_1cd8fab4_5dd5_11ea_8eb4_9cf387c28310row4_col1\" class=\"data row4 col1\" >$2.90</td> \n",
       "        <td id=\"T_1cd8fab4_5dd5_11ea_8eb4_9cf387c28310row4_col2\" class=\"data row4 col2\" >$293.00</td> \n",
       "        <td id=\"T_1cd8fab4_5dd5_11ea_8eb4_9cf387c28310row4_col3\" class=\"data row4 col3\" >$3.81</td> \n",
       "    </tr>    <tr> \n",
       "        <th id=\"T_1cd8fab4_5dd5_11ea_8eb4_9cf387c28310level0_row5\" class=\"row_heading level0 row5\" >30-34</th> \n",
       "        <td id=\"T_1cd8fab4_5dd5_11ea_8eb4_9cf387c28310row5_col0\" class=\"data row5 col0\" >73</td> \n",
       "        <td id=\"T_1cd8fab4_5dd5_11ea_8eb4_9cf387c28310row5_col1\" class=\"data row5 col1\" >$2.93</td> \n",
       "        <td id=\"T_1cd8fab4_5dd5_11ea_8eb4_9cf387c28310row5_col2\" class=\"data row5 col2\" >$214.00</td> \n",
       "        <td id=\"T_1cd8fab4_5dd5_11ea_8eb4_9cf387c28310row5_col3\" class=\"data row5 col3\" >$4.12</td> \n",
       "    </tr>    <tr> \n",
       "        <th id=\"T_1cd8fab4_5dd5_11ea_8eb4_9cf387c28310level0_row6\" class=\"row_heading level0 row6\" >35-39</th> \n",
       "        <td id=\"T_1cd8fab4_5dd5_11ea_8eb4_9cf387c28310row6_col0\" class=\"data row6 col0\" >41</td> \n",
       "        <td id=\"T_1cd8fab4_5dd5_11ea_8eb4_9cf387c28310row6_col1\" class=\"data row6 col1\" >$3.60</td> \n",
       "        <td id=\"T_1cd8fab4_5dd5_11ea_8eb4_9cf387c28310row6_col2\" class=\"data row6 col2\" >$147.67</td> \n",
       "        <td id=\"T_1cd8fab4_5dd5_11ea_8eb4_9cf387c28310row6_col3\" class=\"data row6 col3\" >$4.76</td> \n",
       "    </tr>    <tr> \n",
       "        <th id=\"T_1cd8fab4_5dd5_11ea_8eb4_9cf387c28310level0_row7\" class=\"row_heading level0 row7\" >40+</th> \n",
       "        <td id=\"T_1cd8fab4_5dd5_11ea_8eb4_9cf387c28310row7_col0\" class=\"data row7 col0\" >13</td> \n",
       "        <td id=\"T_1cd8fab4_5dd5_11ea_8eb4_9cf387c28310row7_col1\" class=\"data row7 col1\" >$2.94</td> \n",
       "        <td id=\"T_1cd8fab4_5dd5_11ea_8eb4_9cf387c28310row7_col2\" class=\"data row7 col2\" >$38.24</td> \n",
       "        <td id=\"T_1cd8fab4_5dd5_11ea_8eb4_9cf387c28310row7_col3\" class=\"data row7 col3\" >$3.19</td> \n",
       "    </tr></tbody> \n",
       "</table> "
      ],
      "text/plain": [
       "<pandas.io.formats.style.Styler at 0x1224b3be0>"
      ]
     },
     "execution_count": 22,
     "metadata": {},
     "output_type": "execute_result"
    }
   ],
   "source": [
    "#calculate purchase_counts \n",
    "purchase_count=age_groups_df[\"Purchase ID\"].count()\n",
    "purchase_count\n",
    "#calculate average_purchase_price\n",
    "average_purchase_price=age_groups_df[\"Price\"].mean()\n",
    "average_purchase_price\n",
    "#calculate total_purchase_value\n",
    "total_purchase_value=age_groups_df[\"Price\"].sum()\n",
    "total_purchase_value\n",
    "#calculate vg_total_purchase_person (total_purchase_value/total_age_groups)\n",
    "avg_total_purchase_person=total_purchase_value/total_age_groups\n",
    "avg_total_purchase_person\n",
    "#create age_demographics_df df with above calculations\n",
    "age_demographics_df=pd.DataFrame({\"Purchase Count\": purchase_count,\n",
    "                                 \"Average Purchase Price\": average_purchase_price,\n",
    "                                 \"Total Purchase Value\": total_purchase_value,\n",
    "                                 \"Avg Total Purchase per Person\": avg_total_purchase_person\n",
    "                                 })\n",
    "age_demographics_df\n",
    "#style and format age_demographics_df summary table to include $ and two decimal points \n",
    "age_demographics_df.style.format({\"Average Purchase Price\": \"${:,.2f}\",\n",
    "                                 \"Total Purchase Value\": \"${:,.2f}\",\n",
    "                                 \"Avg Total Purchase per Person\": \"${:,.2f}\"\n",
    "                                 })"
   ]
  },
  {
   "cell_type": "markdown",
   "metadata": {},
   "source": [
    "## Top Spenders"
   ]
  },
  {
   "cell_type": "markdown",
   "metadata": {},
   "source": [
    "* Run basic calculations to obtain the results in the table below\n",
    "\n",
    "\n",
    "* Create a summary data frame to hold the results\n",
    "\n",
    "\n",
    "* Sort the total purchase value column in descending order\n",
    "\n",
    "\n",
    "* Optional: give the displayed data cleaner formatting\n",
    "\n",
    "\n",
    "* Display a preview of the summary data frame\n",
    "\n"
   ]
  },
  {
   "cell_type": "code",
   "execution_count": 23,
   "metadata": {},
   "outputs": [
    {
     "data": {
      "text/html": [
       "<style  type=\"text/css\" >\n",
       "</style>  \n",
       "<table id=\"T_84406a70_5dd5_11ea_8eb4_9cf387c28310\" > \n",
       "<thead>    <tr> \n",
       "        <th class=\"blank level0\" ></th> \n",
       "        <th class=\"col_heading level0 col0\" >Purchase Count</th> \n",
       "        <th class=\"col_heading level0 col1\" >Average Purchase Price</th> \n",
       "        <th class=\"col_heading level0 col2\" >Total Purchase Value</th> \n",
       "    </tr>    <tr> \n",
       "        <th class=\"index_name level0\" >SN</th> \n",
       "        <th class=\"blank\" ></th> \n",
       "        <th class=\"blank\" ></th> \n",
       "        <th class=\"blank\" ></th> \n",
       "    </tr></thead> \n",
       "<tbody>    <tr> \n",
       "        <th id=\"T_84406a70_5dd5_11ea_8eb4_9cf387c28310level0_row0\" class=\"row_heading level0 row0\" >Lisosia93</th> \n",
       "        <td id=\"T_84406a70_5dd5_11ea_8eb4_9cf387c28310row0_col0\" class=\"data row0 col0\" >5</td> \n",
       "        <td id=\"T_84406a70_5dd5_11ea_8eb4_9cf387c28310row0_col1\" class=\"data row0 col1\" >$3.79</td> \n",
       "        <td id=\"T_84406a70_5dd5_11ea_8eb4_9cf387c28310row0_col2\" class=\"data row0 col2\" >$18.96</td> \n",
       "    </tr>    <tr> \n",
       "        <th id=\"T_84406a70_5dd5_11ea_8eb4_9cf387c28310level0_row1\" class=\"row_heading level0 row1\" >Idastidru52</th> \n",
       "        <td id=\"T_84406a70_5dd5_11ea_8eb4_9cf387c28310row1_col0\" class=\"data row1 col0\" >4</td> \n",
       "        <td id=\"T_84406a70_5dd5_11ea_8eb4_9cf387c28310row1_col1\" class=\"data row1 col1\" >$3.86</td> \n",
       "        <td id=\"T_84406a70_5dd5_11ea_8eb4_9cf387c28310row1_col2\" class=\"data row1 col2\" >$15.45</td> \n",
       "    </tr>    <tr> \n",
       "        <th id=\"T_84406a70_5dd5_11ea_8eb4_9cf387c28310level0_row2\" class=\"row_heading level0 row2\" >Chamjask73</th> \n",
       "        <td id=\"T_84406a70_5dd5_11ea_8eb4_9cf387c28310row2_col0\" class=\"data row2 col0\" >3</td> \n",
       "        <td id=\"T_84406a70_5dd5_11ea_8eb4_9cf387c28310row2_col1\" class=\"data row2 col1\" >$4.61</td> \n",
       "        <td id=\"T_84406a70_5dd5_11ea_8eb4_9cf387c28310row2_col2\" class=\"data row2 col2\" >$13.83</td> \n",
       "    </tr>    <tr> \n",
       "        <th id=\"T_84406a70_5dd5_11ea_8eb4_9cf387c28310level0_row3\" class=\"row_heading level0 row3\" >Iral74</th> \n",
       "        <td id=\"T_84406a70_5dd5_11ea_8eb4_9cf387c28310row3_col0\" class=\"data row3 col0\" >4</td> \n",
       "        <td id=\"T_84406a70_5dd5_11ea_8eb4_9cf387c28310row3_col1\" class=\"data row3 col1\" >$3.40</td> \n",
       "        <td id=\"T_84406a70_5dd5_11ea_8eb4_9cf387c28310row3_col2\" class=\"data row3 col2\" >$13.62</td> \n",
       "    </tr>    <tr> \n",
       "        <th id=\"T_84406a70_5dd5_11ea_8eb4_9cf387c28310level0_row4\" class=\"row_heading level0 row4\" >Iskadarya95</th> \n",
       "        <td id=\"T_84406a70_5dd5_11ea_8eb4_9cf387c28310row4_col0\" class=\"data row4 col0\" >3</td> \n",
       "        <td id=\"T_84406a70_5dd5_11ea_8eb4_9cf387c28310row4_col1\" class=\"data row4 col1\" >$4.37</td> \n",
       "        <td id=\"T_84406a70_5dd5_11ea_8eb4_9cf387c28310row4_col2\" class=\"data row4 col2\" >$13.10</td> \n",
       "    </tr></tbody> \n",
       "</table> "
      ],
      "text/plain": [
       "<pandas.io.formats.style.Styler at 0x122c874a8>"
      ]
     },
     "execution_count": 23,
     "metadata": {},
     "output_type": "execute_result"
    }
   ],
   "source": [
    "#group data by screenname \n",
    "top_spenders = purchase_df.groupby(\"SN\")\n",
    "top_spenders.head()\n",
    "#calculate spender_purchase_count by using .count()\n",
    "spender_purchase_count = top_spenders[\"Purchase ID\"].count()\n",
    "spender_purchase_count.head()\n",
    "#calculate spender_avg_purchase_price by using .mean()\n",
    "spender_avg_purchase_price = top_spenders[\"Price\"].mean()\n",
    "spender_avg_purchase_price.head()\n",
    "#calculate spender_total_purchase_value by suing .sum\n",
    "spender_total_purchase_value = top_spenders[\"Price\"].sum()\n",
    "spender_total_purchase_value.head()\n",
    "#create top_spenders_df df with above calculations\n",
    "top_spenders_df=pd.DataFrame({\"Purchase Count\": spender_purchase_count,\n",
    "                            \"Average Purchase Price\": spender_avg_purchase_price,\n",
    "                            \"Total Purchase Value\": spender_total_purchase_value\n",
    "                            })\n",
    "top_spenders_df.head()\n",
    "#sort top_spenders_df df in descending order\n",
    "sorted_top_spenders=top_spenders_df.sort_values([\"Total Purchase Value\"], ascending=False).head()\n",
    "#format sorted_top_spenders summary table to include $ and two decimal points \n",
    "sorted_top_spenders.style.format({\"Average Purchase Price\": '${:,.2f}',\n",
    "                                 \"Total Purchase Value\": '${:,.2f}'\n",
    "                                 })\n"
   ]
  },
  {
   "cell_type": "markdown",
   "metadata": {},
   "source": [
    "## Most Popular Items"
   ]
  },
  {
   "cell_type": "markdown",
   "metadata": {},
   "source": [
    "* Retrieve the Item ID, Item Name, and Item Price columns\n",
    "\n",
    "\n",
    "* Group by Item ID and Item Name. Perform calculations to obtain purchase count, item price, and total purchase value\n",
    "\n",
    "\n",
    "* Create a summary data frame to hold the results\n",
    "\n",
    "\n",
    "* Sort the purchase count column in descending order\n",
    "\n",
    "\n",
    "* Optional: give the displayed data cleaner formatting\n",
    "\n",
    "\n",
    "* Display a preview of the summary data frame\n",
    "\n"
   ]
  },
  {
   "cell_type": "code",
   "execution_count": 24,
   "metadata": {},
   "outputs": [
    {
     "data": {
      "text/html": [
       "<style  type=\"text/css\" >\n",
       "</style>  \n",
       "<table id=\"T_ec181f4e_5dd5_11ea_8eb4_9cf387c28310\" > \n",
       "<thead>    <tr> \n",
       "        <th class=\"blank\" ></th> \n",
       "        <th class=\"blank level0\" ></th> \n",
       "        <th class=\"col_heading level0 col0\" >Purchase Count</th> \n",
       "        <th class=\"col_heading level0 col1\" >Item Price</th> \n",
       "        <th class=\"col_heading level0 col2\" >Total Purchase Value</th> \n",
       "    </tr>    <tr> \n",
       "        <th class=\"index_name level0\" >Item ID</th> \n",
       "        <th class=\"index_name level1\" >Item Name</th> \n",
       "        <th class=\"blank\" ></th> \n",
       "        <th class=\"blank\" ></th> \n",
       "        <th class=\"blank\" ></th> \n",
       "    </tr></thead> \n",
       "<tbody>    <tr> \n",
       "        <th id=\"T_ec181f4e_5dd5_11ea_8eb4_9cf387c28310level0_row0\" class=\"row_heading level0 row0\" >178</th> \n",
       "        <th id=\"T_ec181f4e_5dd5_11ea_8eb4_9cf387c28310level1_row0\" class=\"row_heading level1 row0\" >Oathbreaker, Last Hope of the Breaking Storm</th> \n",
       "        <td id=\"T_ec181f4e_5dd5_11ea_8eb4_9cf387c28310row0_col0\" class=\"data row0 col0\" >12</td> \n",
       "        <td id=\"T_ec181f4e_5dd5_11ea_8eb4_9cf387c28310row0_col1\" class=\"data row0 col1\" >$4.23</td> \n",
       "        <td id=\"T_ec181f4e_5dd5_11ea_8eb4_9cf387c28310row0_col2\" class=\"data row0 col2\" >$50.76</td> \n",
       "    </tr>    <tr> \n",
       "        <th id=\"T_ec181f4e_5dd5_11ea_8eb4_9cf387c28310level0_row1\" class=\"row_heading level0 row1\" >145</th> \n",
       "        <th id=\"T_ec181f4e_5dd5_11ea_8eb4_9cf387c28310level1_row1\" class=\"row_heading level1 row1\" >Fiery Glass Crusader</th> \n",
       "        <td id=\"T_ec181f4e_5dd5_11ea_8eb4_9cf387c28310row1_col0\" class=\"data row1 col0\" >9</td> \n",
       "        <td id=\"T_ec181f4e_5dd5_11ea_8eb4_9cf387c28310row1_col1\" class=\"data row1 col1\" >$4.58</td> \n",
       "        <td id=\"T_ec181f4e_5dd5_11ea_8eb4_9cf387c28310row1_col2\" class=\"data row1 col2\" >$41.22</td> \n",
       "    </tr>    <tr> \n",
       "        <th id=\"T_ec181f4e_5dd5_11ea_8eb4_9cf387c28310level0_row2\" class=\"row_heading level0 row2\" >108</th> \n",
       "        <th id=\"T_ec181f4e_5dd5_11ea_8eb4_9cf387c28310level1_row2\" class=\"row_heading level1 row2\" >Extraction, Quickblade Of Trembling Hands</th> \n",
       "        <td id=\"T_ec181f4e_5dd5_11ea_8eb4_9cf387c28310row2_col0\" class=\"data row2 col0\" >9</td> \n",
       "        <td id=\"T_ec181f4e_5dd5_11ea_8eb4_9cf387c28310row2_col1\" class=\"data row2 col1\" >$3.53</td> \n",
       "        <td id=\"T_ec181f4e_5dd5_11ea_8eb4_9cf387c28310row2_col2\" class=\"data row2 col2\" >$31.77</td> \n",
       "    </tr>    <tr> \n",
       "        <th id=\"T_ec181f4e_5dd5_11ea_8eb4_9cf387c28310level0_row3\" class=\"row_heading level0 row3\" >82</th> \n",
       "        <th id=\"T_ec181f4e_5dd5_11ea_8eb4_9cf387c28310level1_row3\" class=\"row_heading level1 row3\" >Nirvana</th> \n",
       "        <td id=\"T_ec181f4e_5dd5_11ea_8eb4_9cf387c28310row3_col0\" class=\"data row3 col0\" >9</td> \n",
       "        <td id=\"T_ec181f4e_5dd5_11ea_8eb4_9cf387c28310row3_col1\" class=\"data row3 col1\" >$4.90</td> \n",
       "        <td id=\"T_ec181f4e_5dd5_11ea_8eb4_9cf387c28310row3_col2\" class=\"data row3 col2\" >$44.10</td> \n",
       "    </tr>    <tr> \n",
       "        <th id=\"T_ec181f4e_5dd5_11ea_8eb4_9cf387c28310level0_row4\" class=\"row_heading level0 row4\" >19</th> \n",
       "        <th id=\"T_ec181f4e_5dd5_11ea_8eb4_9cf387c28310level1_row4\" class=\"row_heading level1 row4\" >Pursuit, Cudgel of Necromancy</th> \n",
       "        <td id=\"T_ec181f4e_5dd5_11ea_8eb4_9cf387c28310row4_col0\" class=\"data row4 col0\" >8</td> \n",
       "        <td id=\"T_ec181f4e_5dd5_11ea_8eb4_9cf387c28310row4_col1\" class=\"data row4 col1\" >$1.02</td> \n",
       "        <td id=\"T_ec181f4e_5dd5_11ea_8eb4_9cf387c28310row4_col2\" class=\"data row4 col2\" >$8.16</td> \n",
       "    </tr></tbody> \n",
       "</table> "
      ],
      "text/plain": [
       "<pandas.io.formats.style.Styler at 0x122c87cf8>"
      ]
     },
     "execution_count": 24,
     "metadata": {},
     "output_type": "execute_result"
    }
   ],
   "source": [
    "#create most_popular_data df to include ID, Item Name, and Item Price columns\n",
    "most_popular_data=purchase_df[[\"Item ID\", \"Item Name\", \"Price\"]]\n",
    "most_popular_data.head()\n",
    "#group by ID and Item Name\n",
    "grouped_most_popular_data=most_popular_data.groupby([\"Item ID\", \"Item Name\"])\n",
    "#calculate popular_purchase_count .count()\n",
    "popular_purchase_count=grouped_most_popular_data[\"Price\"].count()\n",
    "popular_purchase_count.head()\n",
    "#calculate popular_purchase_value .sum()\n",
    "popular_purchase_value=grouped_most_popular_data[\"Price\"].sum()\n",
    "popular_purchase_value.head()\n",
    "#calculate popular_item_price (popular_purchase_value/popular_purchase_count)\n",
    "popular_item_price = popular_purchase_value/popular_purchase_count\n",
    "popular_item_price.head()\n",
    "#create most_popular_df\n",
    "most_popular_df=pd.DataFrame({\"Purchase Count\":popular_purchase_count,\n",
    "                             \"Item Price\":popular_item_price,\n",
    "                             \"Total Purchase Value\":popular_purchase_value})\n",
    "most_popular_df.head()\n",
    "#sort most_popular_df in descending order\n",
    "sorted_most_popular=most_popular_df.sort_values([\"Purchase Count\"], ascending=False).head()\n",
    " \n",
    "#format sorted_most_popular summary table to include $ and two decimal points\n",
    "sorted_most_popular.style.format({\"Item Price\": '${:,.2f}',\n",
    "                             \"Total Purchase Value\": '${:,.2f}'\n",
    "                                })\n"
   ]
  },
  {
   "cell_type": "markdown",
   "metadata": {},
   "source": [
    "## Most Profitable Items"
   ]
  },
  {
   "cell_type": "markdown",
   "metadata": {},
   "source": [
    "* Sort the above table by total purchase value in descending order\n",
    "\n",
    "\n",
    "* Optional: give the displayed data cleaner formatting\n",
    "\n",
    "\n",
    "* Display a preview of the data frame\n",
    "\n"
   ]
  },
  {
   "cell_type": "code",
   "execution_count": 25,
   "metadata": {
    "scrolled": true
   },
   "outputs": [
    {
     "data": {
      "text/html": [
       "<style  type=\"text/css\" >\n",
       "</style>  \n",
       "<table id=\"T_2a1f12f2_5dd6_11ea_8eb4_9cf387c28310\" > \n",
       "<thead>    <tr> \n",
       "        <th class=\"blank\" ></th> \n",
       "        <th class=\"blank level0\" ></th> \n",
       "        <th class=\"col_heading level0 col0\" >Purchase Count</th> \n",
       "        <th class=\"col_heading level0 col1\" >Item Price</th> \n",
       "        <th class=\"col_heading level0 col2\" >Total Purchase Value</th> \n",
       "    </tr>    <tr> \n",
       "        <th class=\"index_name level0\" >Item ID</th> \n",
       "        <th class=\"index_name level1\" >Item Name</th> \n",
       "        <th class=\"blank\" ></th> \n",
       "        <th class=\"blank\" ></th> \n",
       "        <th class=\"blank\" ></th> \n",
       "    </tr></thead> \n",
       "<tbody>    <tr> \n",
       "        <th id=\"T_2a1f12f2_5dd6_11ea_8eb4_9cf387c28310level0_row0\" class=\"row_heading level0 row0\" >178</th> \n",
       "        <th id=\"T_2a1f12f2_5dd6_11ea_8eb4_9cf387c28310level1_row0\" class=\"row_heading level1 row0\" >Oathbreaker, Last Hope of the Breaking Storm</th> \n",
       "        <td id=\"T_2a1f12f2_5dd6_11ea_8eb4_9cf387c28310row0_col0\" class=\"data row0 col0\" >12</td> \n",
       "        <td id=\"T_2a1f12f2_5dd6_11ea_8eb4_9cf387c28310row0_col1\" class=\"data row0 col1\" >$4.23</td> \n",
       "        <td id=\"T_2a1f12f2_5dd6_11ea_8eb4_9cf387c28310row0_col2\" class=\"data row0 col2\" >$50.76</td> \n",
       "    </tr>    <tr> \n",
       "        <th id=\"T_2a1f12f2_5dd6_11ea_8eb4_9cf387c28310level0_row1\" class=\"row_heading level0 row1\" >82</th> \n",
       "        <th id=\"T_2a1f12f2_5dd6_11ea_8eb4_9cf387c28310level1_row1\" class=\"row_heading level1 row1\" >Nirvana</th> \n",
       "        <td id=\"T_2a1f12f2_5dd6_11ea_8eb4_9cf387c28310row1_col0\" class=\"data row1 col0\" >9</td> \n",
       "        <td id=\"T_2a1f12f2_5dd6_11ea_8eb4_9cf387c28310row1_col1\" class=\"data row1 col1\" >$4.90</td> \n",
       "        <td id=\"T_2a1f12f2_5dd6_11ea_8eb4_9cf387c28310row1_col2\" class=\"data row1 col2\" >$44.10</td> \n",
       "    </tr>    <tr> \n",
       "        <th id=\"T_2a1f12f2_5dd6_11ea_8eb4_9cf387c28310level0_row2\" class=\"row_heading level0 row2\" >145</th> \n",
       "        <th id=\"T_2a1f12f2_5dd6_11ea_8eb4_9cf387c28310level1_row2\" class=\"row_heading level1 row2\" >Fiery Glass Crusader</th> \n",
       "        <td id=\"T_2a1f12f2_5dd6_11ea_8eb4_9cf387c28310row2_col0\" class=\"data row2 col0\" >9</td> \n",
       "        <td id=\"T_2a1f12f2_5dd6_11ea_8eb4_9cf387c28310row2_col1\" class=\"data row2 col1\" >$4.58</td> \n",
       "        <td id=\"T_2a1f12f2_5dd6_11ea_8eb4_9cf387c28310row2_col2\" class=\"data row2 col2\" >$41.22</td> \n",
       "    </tr>    <tr> \n",
       "        <th id=\"T_2a1f12f2_5dd6_11ea_8eb4_9cf387c28310level0_row3\" class=\"row_heading level0 row3\" >92</th> \n",
       "        <th id=\"T_2a1f12f2_5dd6_11ea_8eb4_9cf387c28310level1_row3\" class=\"row_heading level1 row3\" >Final Critic</th> \n",
       "        <td id=\"T_2a1f12f2_5dd6_11ea_8eb4_9cf387c28310row3_col0\" class=\"data row3 col0\" >8</td> \n",
       "        <td id=\"T_2a1f12f2_5dd6_11ea_8eb4_9cf387c28310row3_col1\" class=\"data row3 col1\" >$4.88</td> \n",
       "        <td id=\"T_2a1f12f2_5dd6_11ea_8eb4_9cf387c28310row3_col2\" class=\"data row3 col2\" >$39.04</td> \n",
       "    </tr>    <tr> \n",
       "        <th id=\"T_2a1f12f2_5dd6_11ea_8eb4_9cf387c28310level0_row4\" class=\"row_heading level0 row4\" >103</th> \n",
       "        <th id=\"T_2a1f12f2_5dd6_11ea_8eb4_9cf387c28310level1_row4\" class=\"row_heading level1 row4\" >Singed Scalpel</th> \n",
       "        <td id=\"T_2a1f12f2_5dd6_11ea_8eb4_9cf387c28310row4_col0\" class=\"data row4 col0\" >8</td> \n",
       "        <td id=\"T_2a1f12f2_5dd6_11ea_8eb4_9cf387c28310row4_col1\" class=\"data row4 col1\" >$4.35</td> \n",
       "        <td id=\"T_2a1f12f2_5dd6_11ea_8eb4_9cf387c28310row4_col2\" class=\"data row4 col2\" >$34.80</td> \n",
       "    </tr></tbody> \n",
       "</table> "
      ],
      "text/plain": [
       "<pandas.io.formats.style.Styler at 0x1224b3c18>"
      ]
     },
     "execution_count": 25,
     "metadata": {},
     "output_type": "execute_result"
    }
   ],
   "source": [
    "#sort above table by Total Purchase Value in descending order\n",
    "most_profitable_items = most_popular_df.sort_values([\"Total Purchase Value\"],\n",
    "                                                   ascending=False).head()\n",
    "\n",
    "#format most_profitable_items summary table to include $ and two decimals \n",
    "most_profitable_items.style.format({\"Item Price\": '${:,.2f}',\n",
    "                                   \"Total Purchase Value\": '${:,.2f}'})\n"
   ]
  }
 ],
 "metadata": {
  "anaconda-cloud": {},
  "kernel_info": {
   "name": "python3"
  },
  "kernelspec": {
   "display_name": "Python 3",
   "language": "python",
   "name": "python3"
  },
  "language_info": {
   "codemirror_mode": {
    "name": "ipython",
    "version": 3
   },
   "file_extension": ".py",
   "mimetype": "text/x-python",
   "name": "python",
   "nbconvert_exporter": "python",
   "pygments_lexer": "ipython3",
   "version": "3.7.1"
  },
  "latex_envs": {
   "LaTeX_envs_menu_present": true,
   "autoclose": false,
   "autocomplete": true,
   "bibliofile": "biblio.bib",
   "cite_by": "apalike",
   "current_citInitial": 1,
   "eqLabelWithNumbers": true,
   "eqNumInitial": 1,
   "hotkeys": {
    "equation": "Ctrl-E",
    "itemize": "Ctrl-I"
   },
   "labels_anchors": false,
   "latex_user_defs": false,
   "report_style_numbering": false,
   "user_envs_cfg": false
  },
  "nteract": {
   "version": "0.2.0"
  }
 },
 "nbformat": 4,
 "nbformat_minor": 2
}
